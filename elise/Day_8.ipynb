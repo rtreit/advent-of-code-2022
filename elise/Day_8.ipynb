{
 "cells": [
  {
   "cell_type": "code",
   "execution_count": 5,
   "id": "83b5d4c3",
   "metadata": {},
   "outputs": [],
   "source": [
    "import numpy as np"
   ]
  },
  {
   "cell_type": "code",
   "execution_count": 109,
   "id": "d6499b7a",
   "metadata": {},
   "outputs": [],
   "source": [
    "data = \"\"\"\n",
    "30373\n",
    "25512\n",
    "65332\n",
    "33549\n",
    "35390\n",
    "\"\"\"\n",
    "data = data[1:-1]"
   ]
  },
  {
   "cell_type": "code",
   "execution_count": 143,
   "id": "4b650a15",
   "metadata": {},
   "outputs": [],
   "source": [
    "with open(\"Data/Day_8.txt\") as file:\n",
    "    data = file.read()"
   ]
  },
  {
   "cell_type": "code",
   "execution_count": 144,
   "id": "ad788632",
   "metadata": {},
   "outputs": [],
   "source": [
    "a = [[*x] for x in data.split(\"\\n\")]\n",
    "a = np.array(a)\n",
    "a = a.astype(\"int\")"
   ]
  },
  {
   "cell_type": "markdown",
   "id": "442ebb46",
   "metadata": {},
   "source": [
    "## Part 1"
   ]
  },
  {
   "cell_type": "code",
   "execution_count": 145,
   "id": "9443394e",
   "metadata": {},
   "outputs": [],
   "source": [
    "def get_min_between_edge(a,i,j):\n",
    "    left = max(a[i,0:j]) if len(a[i,0:j]) > 0 else 0\n",
    "    #print(\"left \" + str(left))\n",
    "    right = max(a[i, j+1:]) if len(a[i, j+1:]) > 0 else 0\n",
    "    #print(\"right \" + str(right))\n",
    "    top = max(a[0:i,j]) if len(a[0:i,j]) > 0 else 0\n",
    "    #print(\"top \" + str(top))\n",
    "    bottom = max(a[i+1:, j]) if len(a[i+1:, j]) else 0\n",
    "    #print(\"bottom \" + str(bottom))\n",
    "    return min(left, right, top, bottom)"
   ]
  },
  {
   "cell_type": "code",
   "execution_count": 146,
   "id": "15e097c1",
   "metadata": {},
   "outputs": [
    {
     "data": {
      "text/plain": [
       "1684"
      ]
     },
     "execution_count": 146,
     "metadata": {},
     "output_type": "execute_result"
    }
   ],
   "source": [
    "# naive way\n",
    "visible = 0\n",
    "for i in range(0, a.shape[0]):\n",
    "    for j in range(0, a.shape[1]):\n",
    "        shortest = get_min_between_edge(a, i, j)\n",
    "        visible = visible + ((shortest < a[i,j]) or (i in (0, a.shape[0]-1)) or (j in (0, a.shape[1]-1)))\n",
    "visible"
   ]
  },
  {
   "cell_type": "markdown",
   "id": "da6f63d8",
   "metadata": {},
   "source": [
    "## Part 2"
   ]
  },
  {
   "cell_type": "code",
   "execution_count": 147,
   "id": "effd0805",
   "metadata": {},
   "outputs": [],
   "source": [
    "def get_view_score(d, height):\n",
    "    view_score = 0\n",
    "    for t in d:\n",
    "        view_score = view_score + 1\n",
    "        if t >= height:\n",
    "            return view_score\n",
    "    return view_score"
   ]
  },
  {
   "cell_type": "code",
   "execution_count": 148,
   "id": "ccaafd36",
   "metadata": {},
   "outputs": [],
   "source": [
    "def get_scenic_score(a,i,j):\n",
    "    left = np.flip(a[i,0:j])\n",
    "    #print(\"left \" + str(left))\n",
    "    right = a[i, j+1:]\n",
    "    #print(\"right \" + str(right))\n",
    "    top = np.flip(a[0:i,j])\n",
    "    #print(\"top \" + str(top))\n",
    "    bottom = a[i+1:, j]\n",
    "    #print(\"bottom \" + str(bottom))\n",
    "    scenic_score = 1\n",
    "    for l in (left, right, top, bottom):\n",
    "        scenic_score = scenic_score*get_view_score(l, a[i,j])\n",
    "    return scenic_score"
   ]
  },
  {
   "cell_type": "code",
   "execution_count": 149,
   "id": "7e4841db",
   "metadata": {},
   "outputs": [],
   "source": [
    "max_score = 0\n",
    "for i in range(0, a.shape[0]):\n",
    "    for j in range(0, a.shape[1]):\n",
    "        max_score = max(max_score, get_scenic_score(a, i, j))"
   ]
  },
  {
   "cell_type": "code",
   "execution_count": 150,
   "id": "c116ef0b",
   "metadata": {},
   "outputs": [
    {
     "data": {
      "text/plain": [
       "486540"
      ]
     },
     "execution_count": 150,
     "metadata": {},
     "output_type": "execute_result"
    }
   ],
   "source": [
    "max_score"
   ]
  },
  {
   "cell_type": "code",
   "execution_count": null,
   "id": "b8d3c023",
   "metadata": {},
   "outputs": [],
   "source": []
  }
 ],
 "metadata": {
  "kernelspec": {
   "display_name": "Python 3",
   "language": "python",
   "name": "python3"
  },
  "language_info": {
   "codemirror_mode": {
    "name": "ipython",
    "version": 3
   },
   "file_extension": ".py",
   "mimetype": "text/x-python",
   "name": "python",
   "nbconvert_exporter": "python",
   "pygments_lexer": "ipython3",
   "version": "3.8.8"
  }
 },
 "nbformat": 4,
 "nbformat_minor": 5
}
