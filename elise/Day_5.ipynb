{
 "cells": [
  {
   "cell_type": "code",
   "execution_count": 1,
   "id": "5698da39",
   "metadata": {},
   "outputs": [],
   "source": [
    "import pandas as pd"
   ]
  },
  {
   "cell_type": "code",
   "execution_count": 142,
   "id": "28a27237",
   "metadata": {},
   "outputs": [],
   "source": [
    "data = \"\"\"\n",
    "    [D]    \n",
    "[N] [C]    \n",
    "[Z] [M] [P]\n",
    " 1   2   3 \n",
    "\n",
    "move 1 from 2 to 1\n",
    "move 3 from 1 to 3\n",
    "move 2 from 2 to 1\n",
    "move 1 from 1 to 2\n",
    "\"\"\"\n",
    "data = data[1:-1]\n",
    "data = data.split(\"\\n\")"
   ]
  },
  {
   "cell_type": "code",
   "execution_count": 153,
   "id": "7a9c9771",
   "metadata": {},
   "outputs": [],
   "source": [
    "with open(\"Data/Day_5.txt\") as file:\n",
    "    data = file.read()\n",
    "data = data.split(\"\\n\")\n"
   ]
  },
  {
   "cell_type": "markdown",
   "id": "58b975a2",
   "metadata": {},
   "source": [
    "## Part 1"
   ]
  },
  {
   "cell_type": "code",
   "execution_count": 134,
   "id": "7a7ac7ea",
   "metadata": {},
   "outputs": [
    {
     "data": {
      "text/plain": [
       "'CNSZFDVLJ'"
      ]
     },
     "execution_count": 134,
     "metadata": {},
     "output_type": "execute_result"
    }
   ],
   "source": [
    "# data parsing\n",
    "# get line number of blank line\n",
    "base = data.index(\"\")-1\n",
    "num_stacks = list(filter(None, data[base].split(\" \")))\n",
    "stack_list = {}\n",
    "for a in num_stacks:\n",
    "    stack_list[int(a)] = []\n",
    "row_num = base-1\n",
    "while row_num >= 0:\n",
    "    row = data[row_num].replace(\"    \", \" \").replace(\"[\", \"\").replace(\"]\", \"\").split(\" \")\n",
    "    for i in range(0, len(row)):\n",
    "        if(row[i] != \"\"):\n",
    "            stack_list[i+1].append(row[i])\n",
    "    row_num = row_num -1\n",
    "# follow the directions\n",
    "directions = data[base+2:]\n",
    "for d in directions:\n",
    "    d = d.split(\" \")\n",
    "    for i in range(0, int(d[1])):\n",
    "        stack_list[int(d[5])].append(stack_list[int(d[3])].pop())\n",
    "# get the last box off each stack\n",
    "top = \"\"\n",
    "for a in stack_list:\n",
    "    top = top + stack_list[a][-1]\n",
    "top"
   ]
  },
  {
   "cell_type": "markdown",
   "id": "dc8b8beb",
   "metadata": {},
   "source": [
    "## Part 2"
   ]
  },
  {
   "cell_type": "code",
   "execution_count": 154,
   "id": "648fb37f",
   "metadata": {},
   "outputs": [
    {
     "data": {
      "text/plain": [
       "'QNDWLMGNS'"
      ]
     },
     "execution_count": 154,
     "metadata": {},
     "output_type": "execute_result"
    }
   ],
   "source": [
    "# data parsing\n",
    "# get line number of blank line\n",
    "base = data.index(\"\")-1\n",
    "num_stacks = list(filter(None, data[base].split(\" \")))\n",
    "stack_list = {}\n",
    "for a in num_stacks:\n",
    "    stack_list[int(a)] = []\n",
    "row_num = base-1\n",
    "while row_num >= 0:\n",
    "    row = data[row_num].replace(\"    \", \" \").replace(\"[\", \"\").replace(\"]\", \"\").split(\" \")\n",
    "    for i in range(0, len(row)):\n",
    "        if(row[i] != \"\"):\n",
    "            stack_list[i+1].append(row[i])\n",
    "    row_num = row_num -1\n",
    "# follow the directions\n",
    "directions = data[base+2:]\n",
    "for d in directions:\n",
    "    d = d.split(\" \")\n",
    "    a = stack_list[int(d[3])][-int(d[1]):]\n",
    "    stack_list[int(d[3])] = stack_list[int(d[3])][:-int(d[1])]\n",
    "    stack_list[int(d[5])].extend(a)\n",
    "# get the last box off each stack\n",
    "top = \"\"\n",
    "for a in stack_list:\n",
    "    top = top + stack_list[a][-1]\n",
    "top"
   ]
  },
  {
   "cell_type": "code",
   "execution_count": null,
   "id": "5b278f9f",
   "metadata": {},
   "outputs": [],
   "source": []
  }
 ],
 "metadata": {
  "kernelspec": {
   "display_name": "Python 3",
   "language": "python",
   "name": "python3"
  },
  "language_info": {
   "codemirror_mode": {
    "name": "ipython",
    "version": 3
   },
   "file_extension": ".py",
   "mimetype": "text/x-python",
   "name": "python",
   "nbconvert_exporter": "python",
   "pygments_lexer": "ipython3",
   "version": "3.8.8"
  }
 },
 "nbformat": 4,
 "nbformat_minor": 5
}
