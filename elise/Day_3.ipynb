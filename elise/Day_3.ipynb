{
 "cells": [
  {
   "cell_type": "code",
   "execution_count": 127,
   "id": "3338b108",
   "metadata": {},
   "outputs": [],
   "source": [
    "import pandas as pd"
   ]
  },
  {
   "cell_type": "code",
   "execution_count": 128,
   "id": "0a0add0f",
   "metadata": {},
   "outputs": [],
   "source": [
    "with open(\"Data/Day_3.txt\") as file:\n",
    "    data = file.read()\n",
    "data = data.split(\"\\n\")\n",
    "data = [x for x in data if x != '']"
   ]
  },
  {
   "cell_type": "markdown",
   "id": "233d9002",
   "metadata": {},
   "source": [
    "## Part 1"
   ]
  },
  {
   "cell_type": "code",
   "execution_count": 101,
   "id": "60e7dcd9",
   "metadata": {},
   "outputs": [],
   "source": [
    "def calc_points(s):\n",
    "    l = len(s)\n",
    "    # split string into 2 parts\n",
    "    bag1 = set(s[0:l//2])\n",
    "    bag2 = set(s[l//2: l])\n",
    "    # find same characters\n",
    "    overlap = list(bag1.intersection(bag2))[0]\n",
    "    # get points for character\n",
    "    point = ord(overlap.lower())%96 + 26*overlap.isupper()\n",
    "    return point"
   ]
  },
  {
   "cell_type": "code",
   "execution_count": 103,
   "id": "66410391",
   "metadata": {},
   "outputs": [
    {
     "data": {
      "text/plain": [
       "7742"
      ]
     },
     "execution_count": 103,
     "metadata": {},
     "output_type": "execute_result"
    }
   ],
   "source": [
    "sum = 0\n",
    "for d in data:\n",
    "    sum = sum + calc_points(d)\n",
    "sum"
   ]
  },
  {
   "cell_type": "markdown",
   "id": "da714332",
   "metadata": {},
   "source": [
    "## Part 2"
   ]
  },
  {
   "cell_type": "code",
   "execution_count": 107,
   "id": "5aa1176d",
   "metadata": {},
   "outputs": [],
   "source": [
    "test = \"\"\"\n",
    "wMqvLMZHhHMvwLHjbvcjnnSBnvTQFn\n",
    "ttgJtRGJQctTZtZT\n",
    "CrZsJsPPZsGzwwsLwLmpwMDw\n",
    "\"\"\"\n",
    "test = test.split(\"\\n\")"
   ]
  },
  {
   "cell_type": "code",
   "execution_count": 129,
   "id": "423e5825",
   "metadata": {},
   "outputs": [],
   "source": [
    "def calc_points(s1, s2, s3):\n",
    "    # find same characters\n",
    "    overlap = list(set(s1).intersection(set(s2)).intersection(set(s3)))[0]\n",
    "    # get points for character\n",
    "    point = ord(overlap.lower())%96 + 26*overlap.isupper()\n",
    "    return point"
   ]
  },
  {
   "cell_type": "code",
   "execution_count": 130,
   "id": "69f03729",
   "metadata": {},
   "outputs": [
    {
     "data": {
      "text/plain": [
       "2276"
      ]
     },
     "execution_count": 130,
     "metadata": {},
     "output_type": "execute_result"
    }
   ],
   "source": [
    "initial = 0\n",
    "total = 0\n",
    "while (initial) < len(data)-2:\n",
    "    total = total + calc_points(data[initial], data[initial + 1], data[initial+2])\n",
    "    initial = initial + 3\n",
    "total"
   ]
  }
 ],
 "metadata": {
  "kernelspec": {
   "display_name": "Python 3",
   "language": "python",
   "name": "python3"
  },
  "language_info": {
   "codemirror_mode": {
    "name": "ipython",
    "version": 3
   },
   "file_extension": ".py",
   "mimetype": "text/x-python",
   "name": "python",
   "nbconvert_exporter": "python",
   "pygments_lexer": "ipython3",
   "version": "3.8.8"
  }
 },
 "nbformat": 4,
 "nbformat_minor": 5
}
