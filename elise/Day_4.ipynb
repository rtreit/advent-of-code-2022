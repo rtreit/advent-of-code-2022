{
 "cells": [
  {
   "cell_type": "code",
   "execution_count": 1,
   "id": "a32a45b9",
   "metadata": {},
   "outputs": [],
   "source": [
    "import pandas as pd"
   ]
  },
  {
   "cell_type": "code",
   "execution_count": 98,
   "id": "66da277d",
   "metadata": {},
   "outputs": [],
   "source": [
    "data = \"\"\"\n",
    "2-4,6-8\n",
    "2-3,4-5\n",
    "5-7,7-9\n",
    "2-8,3-7\n",
    "6-6,4-6\n",
    "2-6,4-8\n",
    "\"\"\"\n",
    "data = data[1:-1]\n",
    "data = data.split(\"\\n\")\n"
   ]
  },
  {
   "cell_type": "code",
   "execution_count": 104,
   "id": "10d8bef3",
   "metadata": {},
   "outputs": [],
   "source": [
    "with open(\"Data/Day_4.txt\") as file:\n",
    "    data = file.read()\n",
    "data = data.split(\"\\n\")\n"
   ]
  },
  {
   "cell_type": "markdown",
   "id": "e08c86d6",
   "metadata": {},
   "source": [
    "## Part 1"
   ]
  },
  {
   "cell_type": "code",
   "execution_count": 93,
   "id": "b085dae4",
   "metadata": {},
   "outputs": [
    {
     "data": {
      "text/plain": [
       "490"
      ]
     },
     "execution_count": 93,
     "metadata": {},
     "output_type": "execute_result"
    }
   ],
   "source": [
    "total_overlap = 0\n",
    "for d in data:\n",
    "    min1, max1 = d.split(\",\")[0].split(\"-\")\n",
    "    min2, max2 = d.split(\",\")[1].split(\"-\")\n",
    "    # if range 1 is contained in range 2\n",
    "    if (int(max1) <= int(max2)) & (int(min1) >= int(min2)):\n",
    "        total_overlap = total_overlap + 1\n",
    "    # if range 2 is contained in range 1\n",
    "    elif (int(max2) <= int(max1)) & (int(min2) >= int(min1)):\n",
    "        total_overlap = total_overlap + 1\n",
    "total_overlap"
   ]
  },
  {
   "cell_type": "markdown",
   "id": "6e7c1bcf",
   "metadata": {},
   "source": [
    "## Part 2"
   ]
  },
  {
   "cell_type": "code",
   "execution_count": 105,
   "id": "7511eb79",
   "metadata": {},
   "outputs": [
    {
     "data": {
      "text/plain": [
       "921"
      ]
     },
     "execution_count": 105,
     "metadata": {},
     "output_type": "execute_result"
    }
   ],
   "source": [
    "total_overlap = 0\n",
    "for d in data:\n",
    "    min1, max1 = d.split(\",\")[0].split(\"-\")\n",
    "    min2, max2 = d.split(\",\")[1].split(\"-\")\n",
    "    # if partial overlap:\n",
    "    if (int(min1) in range(int(min2), int(max2) + 1)) or (int(max1) in range(int(min2), int(max2)+ 1)):\n",
    "        total_overlap = total_overlap + 1\n",
    "    elif (int(min2) in range(int(min1), int(max1) + 1)) or (int(max2) in range(int(min1), int(max1)+ 1)):\n",
    "        total_overlap = total_overlap + 1\n",
    "total_overlap"
   ]
  },
  {
   "cell_type": "code",
   "execution_count": null,
   "id": "d42e309c",
   "metadata": {},
   "outputs": [],
   "source": []
  }
 ],
 "metadata": {
  "kernelspec": {
   "display_name": "Python 3",
   "language": "python",
   "name": "python3"
  },
  "language_info": {
   "codemirror_mode": {
    "name": "ipython",
    "version": 3
   },
   "file_extension": ".py",
   "mimetype": "text/x-python",
   "name": "python",
   "nbconvert_exporter": "python",
   "pygments_lexer": "ipython3",
   "version": "3.8.8"
  }
 },
 "nbformat": 4,
 "nbformat_minor": 5
}
