{
 "cells": [
  {
   "cell_type": "code",
   "execution_count": 34,
   "id": "9a4736b4",
   "metadata": {},
   "outputs": [],
   "source": [
    "with open(\"Data/Day_6.txt\") as file:\n",
    "    data = file.read()"
   ]
  },
  {
   "cell_type": "markdown",
   "id": "28d2ed86",
   "metadata": {},
   "source": [
    "## Part 1"
   ]
  },
  {
   "cell_type": "code",
   "execution_count": 35,
   "id": "c2faa968",
   "metadata": {},
   "outputs": [
    {
     "data": {
      "text/plain": [
       "1987"
      ]
     },
     "execution_count": 35,
     "metadata": {},
     "output_type": "execute_result"
    }
   ],
   "source": [
    "markers = set(data[0:4])\n",
    "i = 0\n",
    "while len(markers) < 4:\n",
    "    i = i+1\n",
    "    markers = set(data[0+i: 4+i])\n",
    "i + 4"
   ]
  },
  {
   "cell_type": "markdown",
   "id": "468ef0c3",
   "metadata": {},
   "source": [
    "## Part 2"
   ]
  },
  {
   "cell_type": "code",
   "execution_count": null,
   "id": "500d05d7",
   "metadata": {},
   "outputs": [],
   "source": [
    "data = \"mjqjpqmgbljsphdztnvjfqwrcgsmlb\""
   ]
  },
  {
   "cell_type": "code",
   "execution_count": null,
   "id": "2b9abcc0",
   "metadata": {},
   "outputs": [],
   "source": []
  }
 ],
 "metadata": {
  "kernelspec": {
   "display_name": "Python 3",
   "language": "python",
   "name": "python3"
  },
  "language_info": {
   "codemirror_mode": {
    "name": "ipython",
    "version": 3
   },
   "file_extension": ".py",
   "mimetype": "text/x-python",
   "name": "python",
   "nbconvert_exporter": "python",
   "pygments_lexer": "ipython3",
   "version": "3.8.8"
  }
 },
 "nbformat": 4,
 "nbformat_minor": 5
}
