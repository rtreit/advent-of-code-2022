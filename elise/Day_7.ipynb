{
 "cells": [
  {
   "cell_type": "code",
   "execution_count": 375,
   "id": "ce174c51",
   "metadata": {},
   "outputs": [],
   "source": [
    "data = \"\"\"\n",
    "$ cd /\n",
    "$ ls\n",
    "dir a\n",
    "14848514 b.txt\n",
    "8504156 c.dat\n",
    "dir d\n",
    "$ cd a\n",
    "$ ls\n",
    "dir e\n",
    "29116 f\n",
    "2557 g\n",
    "62596 h.lst\n",
    "$ cd e\n",
    "$ ls\n",
    "584 i\n",
    "$ cd ..\n",
    "$ cd ..\n",
    "$ cd d\n",
    "$ ls\n",
    "4060174 j\n",
    "8033020 d.log\n",
    "5626152 d.ext\n",
    "7214296 k\n",
    "\"\"\"\n",
    "data = data.split(\"\\n\")\n",
    "data = data[1:-1]"
   ]
  },
  {
   "cell_type": "code",
   "execution_count": 382,
   "id": "57c729bd",
   "metadata": {},
   "outputs": [],
   "source": [
    "with open(\"Data/Day_7.txt\") as file:\n",
    "    data = file.read()\n",
    "data = data.split(\"\\n\")"
   ]
  },
  {
   "cell_type": "code",
   "execution_count": 383,
   "id": "71e1b412",
   "metadata": {},
   "outputs": [],
   "source": [
    "class directory:\n",
    "    def __init__(self, ContainedBy, Contains, size, name):\n",
    "        self.Upper = ContainedBy\n",
    "        self.Lower = Contains\n",
    "        self.Size = size\n",
    "        #for a in Contains:\n",
    "         #   self.Size = self.Size + a.Size\n",
    "        self.Name = name\n",
    "        \n",
    "    def __repr__(self):\n",
    "        try:\n",
    "            return (f\"\"\"\n",
    "                    Name {self.Name},\n",
    "                    Contains {[x for x in self.Lower]},\n",
    "                    Contained By {self.Upper.Name},\n",
    "                    Size {self.Size}\n",
    "                    \"\"\")\n",
    "        except:\n",
    "            return \"None\"\n",
    "\n",
    "        "
   ]
  },
  {
   "cell_type": "code",
   "execution_count": 384,
   "id": "922d9fbc",
   "metadata": {},
   "outputs": [],
   "source": [
    "def addSize(direct, val):\n",
    "    direct.Size = direct.Size + val\n",
    "    try:\n",
    "        addSize(direct.Upper, val)\n",
    "    except:\n",
    "        return"
   ]
  },
  {
   "cell_type": "code",
   "execution_count": 385,
   "id": "964e4fd0",
   "metadata": {},
   "outputs": [],
   "source": [
    "index = 0\n",
    "top = directory(None, {}, 0, \"top\")\n",
    "current_directory = top\n",
    "i = 0\n",
    "while i < len(data):\n",
    "    #print(\"Current Directory: \" + current_directory.Name + \" Current Size: \" + str(current_directory.Size))\n",
    "    if \"$ cd\" in data[i]:\n",
    "        dir_name = data[i].split(\" \")[2]\n",
    "        if dir_name == \"..\":\n",
    "            current_directory = current_directory.Upper\n",
    "        else:\n",
    "            New_Dir = directory(current_directory, {}, 0, dir_name)\n",
    "            current_directory.Lower[dir_name] = New_Dir\n",
    "            current_directory = New_Dir\n",
    "        #print(\"Moved to \" + dir_name)\n",
    "    if(data[i] == \"$ ls\"):\n",
    "        #print(data[i])\n",
    "        while(i < len(data)-1 and \"$\" not in data[i + 1]):\n",
    "            i = i+1\n",
    "            #print(data[i])\n",
    "            if \"dir\" in data[i]:\n",
    "                current_directory.Lower[data[i].split(\" \")[1]] = directory(current_directory, {}, 0, data[i].split(\" \")[1])\n",
    "            else:\n",
    "                # this must be a file\n",
    "                addSize(current_directory, int(data[i].split(\" \")[0]))\n",
    "    i = i+1\n",
    "            "
   ]
  },
  {
   "cell_type": "markdown",
   "id": "b178366a",
   "metadata": {},
   "source": [
    "## Part 1"
   ]
  },
  {
   "cell_type": "code",
   "execution_count": 386,
   "id": "833f9313",
   "metadata": {},
   "outputs": [],
   "source": [
    "def GetSum(current, total):\n",
    "    if len(current.Lower) > 0:\n",
    "        for a in current.Lower:\n",
    "            total = GetSum(current.Lower[a], total)\n",
    "    if current.Size <= 100000:\n",
    "        total = total + current.Size\n",
    "    return total"
   ]
  },
  {
   "cell_type": "code",
   "execution_count": 387,
   "id": "aa0e40c5",
   "metadata": {},
   "outputs": [
    {
     "data": {
      "text/plain": [
       "1315285"
      ]
     },
     "execution_count": 387,
     "metadata": {},
     "output_type": "execute_result"
    }
   ],
   "source": [
    "GetSum(top.Lower[\"/\"], 0)"
   ]
  },
  {
   "cell_type": "markdown",
   "id": "b063544e",
   "metadata": {},
   "source": [
    "## Part 2"
   ]
  },
  {
   "cell_type": "code",
   "execution_count": 388,
   "id": "2468b5f9",
   "metadata": {},
   "outputs": [],
   "source": [
    "nec = 30000000 - (70000000 - top.Lower[\"/\"].Size)\n",
    "def GetTotal(current, total):\n",
    "    if len(current.Lower) > 0:\n",
    "        for a in current.Lower:\n",
    "            total = min(total, GetTotal(current.Lower[a], total))\n",
    "    if current.Size >= nec:\n",
    "        total = min(total, current.Size)\n",
    "    return total"
   ]
  },
  {
   "cell_type": "code",
   "execution_count": 389,
   "id": "51ab99de",
   "metadata": {},
   "outputs": [
    {
     "data": {
      "text/plain": [
       "9847279"
      ]
     },
     "execution_count": 389,
     "metadata": {},
     "output_type": "execute_result"
    }
   ],
   "source": [
    "GetTotal(top.Lower[\"/\"], 30000000)"
   ]
  },
  {
   "cell_type": "code",
   "execution_count": null,
   "id": "d015e2db",
   "metadata": {},
   "outputs": [],
   "source": []
  }
 ],
 "metadata": {
  "kernelspec": {
   "display_name": "Python 3",
   "language": "python",
   "name": "python3"
  },
  "language_info": {
   "codemirror_mode": {
    "name": "ipython",
    "version": 3
   },
   "file_extension": ".py",
   "mimetype": "text/x-python",
   "name": "python",
   "nbconvert_exporter": "python",
   "pygments_lexer": "ipython3",
   "version": "3.8.8"
  }
 },
 "nbformat": 4,
 "nbformat_minor": 5
}
