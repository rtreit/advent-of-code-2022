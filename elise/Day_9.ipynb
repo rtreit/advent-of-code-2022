{
 "cells": [
  {
   "cell_type": "code",
   "execution_count": 14,
   "id": "081f76b9",
   "metadata": {},
   "outputs": [],
   "source": [
    "import math"
   ]
  },
  {
   "cell_type": "code",
   "execution_count": 2,
   "id": "20347e7e",
   "metadata": {},
   "outputs": [],
   "source": [
    "data = \"\"\"\n",
    "R 4\n",
    "U 4\n",
    "L 3\n",
    "D 1\n",
    "R 4\n",
    "D 1\n",
    "L 5\n",
    "R 2\n",
    "\"\"\"\n",
    "data = data[1:-1]\n",
    "data = data.split(\"\\n\")"
   ]
  },
  {
   "cell_type": "code",
   "execution_count": 80,
   "id": "fc136481",
   "metadata": {},
   "outputs": [],
   "source": [
    "with open(\"Data/Day_9.txt\") as file:\n",
    "    data = file.read()\n",
    "data = data.split(\"\\n\")"
   ]
  },
  {
   "cell_type": "code",
   "execution_count": 81,
   "id": "d6dec4ac",
   "metadata": {},
   "outputs": [],
   "source": [
    "def isTouching(h,t):\n",
    "    return math.sqrt((h[0]- t[0])**2 + (h[1]-t[1])**2) <= math.sqrt(2)\n",
    "def NewHeadPosition(h,d):\n",
    "    if d == \"R\":\n",
    "        return (h[0]+1, h[1])\n",
    "    if d == \"L\":\n",
    "        return (h[0]-1, h[1])\n",
    "    if d == \"U\":\n",
    "        return (h[0], h[1]+1)\n",
    "    if d == \"D\":\n",
    "        return (h[0], h[1]-1)\n",
    "def NewTailPosition(h,t):\n",
    "    ## if horizontal\n",
    "    if h[1] == t[1]:\n",
    "        return (t[0] + math.floor((h[0]-t[0])/2), t[1])\n",
    "    ## if vertical\n",
    "    elif h[0] == t[0]:\n",
    "        return (t[0], t[1] + math.floor((h[1]-t[1])/2))\n",
    "    ## if diagonal\n",
    "    else:\n",
    "        return (int(t[0] + math.copysign(1,h[0]-t[0])), int(t[1]+ math.copysign(1,h[1]-t[1])))"
   ]
  },
  {
   "cell_type": "code",
   "execution_count": 82,
   "id": "deb877d0",
   "metadata": {},
   "outputs": [
    {
     "name": "stdout",
     "output_type": "stream",
     "text": [
      "Tail Visited 6522 spaces\n"
     ]
    }
   ],
   "source": [
    "h = (0,0)\n",
    "t = (0,0)\n",
    "tailPositions = {t}\n",
    "for d in data:\n",
    "    direction, num = d.split(\" \")\n",
    "    num = int(num)\n",
    "    for i in range(0, num):\n",
    "        # move head\n",
    "        h = NewHeadPosition(h, direction)\n",
    "        # see if they are touching - if not move tail\n",
    "        if not isTouching(h,t):\n",
    "            t = NewTailPosition(h,t)\n",
    "            tailPositions.add(t)\n",
    "print(f\"Tail Visited {len(tailPositions)} spaces\")       "
   ]
  },
  {
   "cell_type": "code",
   "execution_count": 92,
   "id": "51dc5d83",
   "metadata": {},
   "outputs": [],
   "source": [
    "rope = [(0,0), (0,0), (0,0), (0,0), (0,0),(0,0), (0,0), (0,0), (0,0), (0,0)]"
   ]
  },
  {
   "cell_type": "code",
   "execution_count": 93,
   "id": "949810a2",
   "metadata": {},
   "outputs": [
    {
     "name": "stdout",
     "output_type": "stream",
     "text": [
      "Tail Visited 2717 spaces\n"
     ]
    }
   ],
   "source": [
    "tailPositions = {rope[len(rope)-1]}\n",
    "for d in data:\n",
    "    direction, num = d.split(\" \")\n",
    "    num = int(num)\n",
    "    for i in range(0, num):\n",
    "        h = rope[0]\n",
    "        rope[0] = NewHeadPosition(rope[0], direction)\n",
    "        for j in range(1,len(rope)):\n",
    "            h = rope[j-1]\n",
    "            t = rope[j]\n",
    "            # see if they are touching - if not move tail\n",
    "            if not isTouching(rope[j-1],rope[j]):\n",
    "                rope[j] = NewTailPosition(rope[j-1],rope[j])\n",
    "                tailPositions.add(rope[len(rope) - 1])\n",
    "print(f\"Tail Visited {len(tailPositions)} spaces\")  "
   ]
  },
  {
   "cell_type": "code",
   "execution_count": null,
   "id": "579cd0ec",
   "metadata": {},
   "outputs": [],
   "source": []
  }
 ],
 "metadata": {
  "kernelspec": {
   "display_name": "Python 3",
   "language": "python",
   "name": "python3"
  },
  "language_info": {
   "codemirror_mode": {
    "name": "ipython",
    "version": 3
   },
   "file_extension": ".py",
   "mimetype": "text/x-python",
   "name": "python",
   "nbconvert_exporter": "python",
   "pygments_lexer": "ipython3",
   "version": "3.8.8"
  }
 },
 "nbformat": 4,
 "nbformat_minor": 5
}
