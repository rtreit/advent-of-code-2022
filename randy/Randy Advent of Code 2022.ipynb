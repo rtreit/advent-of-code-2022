{
 "cells": [
  {
   "cell_type": "markdown",
   "id": "73e5b3e8",
   "metadata": {},
   "source": [
    "# Advent of Code 2022\n",
    "Randy\n",
    "\n",
    "Scratch Pad"
   ]
  },
  {
   "cell_type": "code",
   "execution_count": 70,
   "id": "3027ccb6",
   "metadata": {},
   "outputs": [],
   "source": []
  },
  {
   "cell_type": "code",
   "execution_count": 385,
   "id": "182f3ce5",
   "metadata": {},
   "outputs": [
    {
     "name": "stdout",
     "output_type": "stream",
     "text": [
      "PTWLTDSJV\n"
     ]
    }
   ],
   "source": [
    "def generate_stack(start, end, drawing):\n",
    "    stack = []\n",
    "    for row in range(0, len(drawing)-1):\n",
    "        try:\n",
    "            stack.append(drawing[row][start:end].split(\"[\")[1].split(\"]\")[0])\n",
    "        except:\n",
    "            pass\n",
    "    return stack\n",
    "\n",
    "def move_crate(procedure_line, stacks):\n",
    "    numbers = []\n",
    "    for item in procedure_line.split(\" \"):\n",
    "        item = item.replace(\"\\n\", \"\")\n",
    "        try:\n",
    "            int_item = int(item)\n",
    "            numbers.append(int_item)\n",
    "        except:\n",
    "            pass\n",
    "    number_to_move = numbers[0]\n",
    "    from_stack = numbers[1]-1\n",
    "    to_stack = numbers[2]-1\n",
    "    for i in range(0, number_to_move):\n",
    "        crate = stacks[from_stack].pop()\n",
    "        stacks[to_stack].append(crate)\n",
    "\n",
    "with open(\"day5_input.txt\", \"r\") as f:\n",
    "    data = f.readlines()\n",
    "drawing = data[0:9]\n",
    "procedure = data[10:]\n",
    "\n",
    "index = 0\n",
    "stacks = []\n",
    "for i in range(1, 10):\n",
    "    stack = generate_stack(index,index+3, drawing)\n",
    "    index += 4\n",
    "    stacks.append(stack)\n",
    "rearranged = []\n",
    "for stack in stacks:\n",
    "    stack.reverse()\n",
    "    rearranged.append(stack)\n",
    "stacks = rearranged    \n",
    "\n",
    "for procedure_line in procedure:\n",
    "    move_crate(procedure_line, stacks)\n",
    "\n",
    "top_of_stacks = \"\"\n",
    "for stack in stacks: \n",
    "    top_of_stacks += ((stack[len(stack)-1]))\n",
    "print(top_of_stacks)    "
   ]
  },
  {
   "cell_type": "code",
   "execution_count": 339,
   "id": "67d10f28",
   "metadata": {},
   "outputs": [
    {
     "data": {
      "text/plain": [
       "['[N]             [R]             [C]\\n',\n",
       " '[T] [J]         [S] [J]         [N]\\n',\n",
       " '[B] [Z]     [H] [M] [Z]         [D]\\n',\n",
       " '[S] [P]     [G] [L] [H] [Z]     [T]\\n',\n",
       " '[Q] [D]     [F] [D] [V] [L] [S] [M]\\n',\n",
       " '[H] [F] [V] [J] [C] [W] [P] [W] [L]\\n',\n",
       " '[G] [S] [H] [Z] [Z] [T] [F] [V] [H]\\n',\n",
       " '[R] [H] [Z] [M] [T] [M] [T] [Q] [W]\\n',\n",
       " ' 1   2   3   4   5   6   7   8   9 \\n']"
      ]
     },
     "execution_count": 339,
     "metadata": {},
     "output_type": "execute_result"
    }
   ],
   "source": [
    "drawing"
   ]
  },
  {
   "cell_type": "code",
   "execution_count": 378,
   "id": "afe99035",
   "metadata": {},
   "outputs": [],
   "source": [
    "rearranged = []\n",
    "for stack in stacks:\n",
    "    stack.reverse()\n",
    "    rearranged.append(stack)\n",
    "stacks = rearranged"
   ]
  },
  {
   "cell_type": "code",
   "execution_count": 374,
   "id": "c0eba7b7",
   "metadata": {},
   "outputs": [
    {
     "data": {
      "text/plain": [
       "['V', 'R', 'T', 'H', 'W', 'S', 'J', 'T', 'Z', 'L', 'V', 'H', 'C', 'M', 'Z']"
      ]
     },
     "execution_count": 374,
     "metadata": {},
     "output_type": "execute_result"
    }
   ],
   "source": [
    "stacks[8]"
   ]
  },
  {
   "cell_type": "code",
   "execution_count": 379,
   "id": "1320e052",
   "metadata": {},
   "outputs": [],
   "source": [
    "def move_crate(procedure_line, stacks):\n",
    "    numbers = []\n",
    "    for item in procedure_line.split(\" \"):\n",
    "        item = item.replace(\"\\n\", \"\")\n",
    "        try:\n",
    "            int_item = int(item)\n",
    "            numbers.append(int_item)\n",
    "        except:\n",
    "            pass\n",
    "    number_to_move = numbers[0]\n",
    "    from_stack = numbers[1]-1\n",
    "    to_stack = numbers[2]-1\n",
    "    for i in range(0, number_to_move):\n",
    "        crate = stacks[from_stack].pop()\n",
    "        stacks[to_stack].append(crate)"
   ]
  },
  {
   "cell_type": "code",
   "execution_count": 380,
   "id": "7bf7c775",
   "metadata": {
    "scrolled": false
   },
   "outputs": [],
   "source": [
    "for procedure_line in procedure:\n",
    "    move_crate(procedure_line, stacks)"
   ]
  },
  {
   "cell_type": "code",
   "execution_count": 381,
   "id": "8e18d39f",
   "metadata": {},
   "outputs": [
    {
     "data": {
      "text/plain": [
       "[['P', 'D', 'P'],\n",
       " ['B', 'N', 'R', 'H', 'J', 'T', 'Q', 'M', 'T'],\n",
       " ['S', 'W'],\n",
       " ['H', 'V', 'F', 'W', 'M', 'D', 'L', 'S', 'T', 'Z', 'L'],\n",
       " ['C', 'G', 'Q', 'H', 'F', 'F', 'T'],\n",
       " ['N', 'M', 'Z', 'H', 'Z', 'Z', 'D'],\n",
       " ['S'],\n",
       " ['J'],\n",
       " ['Z', 'M', 'C', 'H', 'V', 'L', 'Z', 'G', 'J', 'S', 'W', 'H', 'T', 'R', 'V']]"
      ]
     },
     "execution_count": 381,
     "metadata": {},
     "output_type": "execute_result"
    }
   ],
   "source": [
    "stacks"
   ]
  },
  {
   "cell_type": "code",
   "execution_count": 382,
   "id": "7c174fc1",
   "metadata": {
    "scrolled": false
   },
   "outputs": [
    {
     "name": "stdout",
     "output_type": "stream",
     "text": [
      "PTWLTDSJV\n"
     ]
    },
    {
     "data": {
      "text/plain": [
       "'V'"
      ]
     },
     "execution_count": 382,
     "metadata": {},
     "output_type": "execute_result"
    }
   ],
   "source": [
    "top_of_stacks = \"\"\n",
    "for stack in stacks: \n",
    "    top_of_stacks += ((stack[len(stack)-1]))\n",
    "print(top_of_stacks)"
   ]
  },
  {
   "cell_type": "code",
   "execution_count": 109,
   "id": "c04b4ae7",
   "metadata": {},
   "outputs": [
    {
     "data": {
      "text/plain": [
       "['4', '4', '5']"
      ]
     },
     "execution_count": 109,
     "metadata": {},
     "output_type": "execute_result"
    }
   ],
   "source": [
    "nums = []\n",
    "for c in procedure[0]:\n",
    "    try: \n",
    "        int(c)\n",
    "        nums.append(c)\n",
    "    except:\n",
    "        pass\n",
    "nums"
   ]
  },
  {
   "cell_type": "code",
   "execution_count": 386,
   "id": "bb702c2a",
   "metadata": {},
   "outputs": [],
   "source": [
    "# part 2"
   ]
  },
  {
   "cell_type": "code",
   "execution_count": 396,
   "id": "e3ad0fd5",
   "metadata": {},
   "outputs": [
    {
     "data": {
      "text/plain": [
       "['B', 'C']"
      ]
     },
     "execution_count": 396,
     "metadata": {},
     "output_type": "execute_result"
    }
   ],
   "source": [
    "foo = [\"A\", \"B\", \"C\"]\n",
    "bar = [\"X\", \"Y\"]\n",
    "baz = []\n",
    "baz.append(foo.pop())\n",
    "baz.append(foo.pop())\n",
    "baz.reverse()\n",
    "baz"
   ]
  },
  {
   "cell_type": "code",
   "execution_count": 399,
   "id": "458598d1",
   "metadata": {},
   "outputs": [
    {
     "name": "stdout",
     "output_type": "stream",
     "text": [
      "WZMFVGGZP\n"
     ]
    }
   ],
   "source": [
    "def generate_stack(start, end, drawing):\n",
    "    stack = []\n",
    "    for row in range(0, len(drawing)-1):\n",
    "        try:\n",
    "            stack.append(drawing[row][start:end].split(\"[\")[1].split(\"]\")[0])\n",
    "        except:\n",
    "            pass\n",
    "    return stack\n",
    "\n",
    "def move_crate(procedure_line, stacks):\n",
    "    numbers = []\n",
    "    for item in procedure_line.split(\" \"):\n",
    "        item = item.replace(\"\\n\", \"\")\n",
    "        try:\n",
    "            int_item = int(item)\n",
    "            numbers.append(int_item)\n",
    "        except:\n",
    "            pass\n",
    "    number_to_move = numbers[0]\n",
    "    from_stack = numbers[1]-1\n",
    "    to_stack = numbers[2]-1\n",
    "    crates_in_order = []\n",
    "    for i in range(0, number_to_move):\n",
    "        crate = stacks[from_stack].pop()\n",
    "        crates_in_order.append(crate)\n",
    "    crates_in_order.reverse()\n",
    "    stacks[to_stack] += crates_in_order\n",
    "\n",
    "with open(\"day5_input.txt\", \"r\") as f:\n",
    "    data = f.readlines()\n",
    "drawing = data[0:9]\n",
    "procedure = data[10:]\n",
    "\n",
    "index = 0\n",
    "stacks = []\n",
    "for i in range(1, 10):\n",
    "    stack = generate_stack(index,index+3, drawing)\n",
    "    index += 4\n",
    "    stacks.append(stack)\n",
    "rearranged = []\n",
    "for stack in stacks:\n",
    "    stack.reverse()\n",
    "    rearranged.append(stack)\n",
    "stacks = rearranged    \n",
    "\n",
    "for procedure_line in procedure:\n",
    "    move_crate(procedure_line, stacks)\n",
    "\n",
    "top_of_stacks = \"\"\n",
    "for stack in stacks: \n",
    "    top_of_stacks += ((stack[len(stack)-1]))\n",
    "print(top_of_stacks)    "
   ]
  }
 ],
 "metadata": {
  "kernelspec": {
   "display_name": "Python 3 (ipykernel)",
   "language": "python",
   "name": "python3"
  },
  "language_info": {
   "codemirror_mode": {
    "name": "ipython",
    "version": 3
   },
   "file_extension": ".py",
   "mimetype": "text/x-python",
   "name": "python",
   "nbconvert_exporter": "python",
   "pygments_lexer": "ipython3",
   "version": "3.10.8"
  }
 },
 "nbformat": 4,
 "nbformat_minor": 5
}
