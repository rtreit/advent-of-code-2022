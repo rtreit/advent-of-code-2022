{
 "cells": [
  {
   "cell_type": "markdown",
   "id": "73e5b3e8",
   "metadata": {},
   "source": [
    "# Advent of Code 2022\n",
    "Randy\n",
    "\n",
    "Scratch Pad"
   ]
  },
  {
   "cell_type": "code",
   "execution_count": 34,
   "id": "8d4c55d3",
   "metadata": {},
   "outputs": [
    {
     "name": "stdout",
     "output_type": "stream",
     "text": [
      "1566\n",
      "2265\n"
     ]
    }
   ],
   "source": [
    "def find_marker(data, target_size):\n",
    "    no_repeating = False\n",
    "    pointer = 0\n",
    "    while not no_repeating:\n",
    "        no_repeating = len(list(data[pointer:pointer+target_size])) == len(set(data[pointer:pointer+target_size]))\n",
    "        if no_repeating:\n",
    "            return pointer+target_size\n",
    "        pointer += 1\n",
    "\n",
    "with open(\"day6_input.txt\", \"r\") as f:\n",
    "    data = f.read()\n",
    "#part 1\n",
    "print(find_marker(data, 4)) \n",
    "#\n",
    "print(find_marker(data, 14))"
   ]
  }
 ],
 "metadata": {
  "kernelspec": {
   "display_name": "Python 3 (ipykernel)",
   "language": "python",
   "name": "python3"
  },
  "language_info": {
   "codemirror_mode": {
    "name": "ipython",
    "version": 3
   },
   "file_extension": ".py",
   "mimetype": "text/x-python",
   "name": "python",
   "nbconvert_exporter": "python",
   "pygments_lexer": "ipython3",
   "version": "3.10.8"
  }
 },
 "nbformat": 4,
 "nbformat_minor": 5
}
